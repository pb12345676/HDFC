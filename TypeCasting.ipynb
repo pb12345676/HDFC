{
 "cells": [
  {
   "cell_type": "code",
   "execution_count": null,
   "id": "5e93948a",
   "metadata": {},
   "outputs": [],
   "source": [
    "conversion on one type of data into another type"
   ]
  },
  {
   "cell_type": "code",
   "execution_count": 1,
   "id": "1fb79981",
   "metadata": {},
   "outputs": [],
   "source": [
    "a = 25"
   ]
  },
  {
   "cell_type": "code",
   "execution_count": 2,
   "id": "46a56246",
   "metadata": {},
   "outputs": [
    {
     "data": {
      "text/plain": [
       "int"
      ]
     },
     "execution_count": 2,
     "metadata": {},
     "output_type": "execute_result"
    }
   ],
   "source": [
    "type(a)"
   ]
  },
  {
   "cell_type": "code",
   "execution_count": 4,
   "id": "6af0e534",
   "metadata": {},
   "outputs": [],
   "source": [
    "a1 = str(a)"
   ]
  },
  {
   "cell_type": "code",
   "execution_count": 5,
   "id": "4477b56f",
   "metadata": {},
   "outputs": [
    {
     "data": {
      "text/plain": [
       "str"
      ]
     },
     "execution_count": 5,
     "metadata": {},
     "output_type": "execute_result"
    }
   ],
   "source": [
    "type(a1)"
   ]
  },
  {
   "cell_type": "code",
   "execution_count": 6,
   "id": "78e5899f",
   "metadata": {},
   "outputs": [
    {
     "data": {
      "text/plain": [
       "'25'"
      ]
     },
     "execution_count": 6,
     "metadata": {},
     "output_type": "execute_result"
    }
   ],
   "source": [
    "a1"
   ]
  },
  {
   "cell_type": "code",
   "execution_count": 7,
   "id": "7d8356b0",
   "metadata": {},
   "outputs": [],
   "source": [
    "t = '4896'"
   ]
  },
  {
   "cell_type": "code",
   "execution_count": 8,
   "id": "e498e51e",
   "metadata": {},
   "outputs": [
    {
     "data": {
      "text/plain": [
       "str"
      ]
     },
     "execution_count": 8,
     "metadata": {},
     "output_type": "execute_result"
    }
   ],
   "source": [
    "type(t)"
   ]
  },
  {
   "cell_type": "code",
   "execution_count": 9,
   "id": "9fb401d8",
   "metadata": {},
   "outputs": [
    {
     "data": {
      "text/plain": [
       "4896"
      ]
     },
     "execution_count": 9,
     "metadata": {},
     "output_type": "execute_result"
    }
   ],
   "source": [
    "int(t)"
   ]
  },
  {
   "cell_type": "code",
   "execution_count": 10,
   "id": "a4f0dfee",
   "metadata": {},
   "outputs": [],
   "source": [
    "a = 45.96"
   ]
  },
  {
   "cell_type": "code",
   "execution_count": 11,
   "id": "a660fab1",
   "metadata": {},
   "outputs": [
    {
     "data": {
      "text/plain": [
       "45"
      ]
     },
     "execution_count": 11,
     "metadata": {},
     "output_type": "execute_result"
    }
   ],
   "source": [
    "int(a)"
   ]
  },
  {
   "cell_type": "code",
   "execution_count": null,
   "id": "4940dc0d",
   "metadata": {},
   "outputs": [],
   "source": [
    "DS"
   ]
  },
  {
   "cell_type": "code",
   "execution_count": 12,
   "id": "c97f8656",
   "metadata": {},
   "outputs": [],
   "source": [
    "p = [1,2,6546,567,43]"
   ]
  },
  {
   "cell_type": "code",
   "execution_count": 13,
   "id": "94a553ea",
   "metadata": {},
   "outputs": [
    {
     "data": {
      "text/plain": [
       "(1, 2, 6546, 567, 43)"
      ]
     },
     "execution_count": 13,
     "metadata": {},
     "output_type": "execute_result"
    }
   ],
   "source": [
    "tuple(p)"
   ]
  },
  {
   "cell_type": "code",
   "execution_count": 14,
   "id": "6e0fb636",
   "metadata": {},
   "outputs": [],
   "source": [
    "p = {1,2,56,7,3,56,4,4,3,3,67,3,34,33,3,3,3,3}"
   ]
  },
  {
   "cell_type": "code",
   "execution_count": 15,
   "id": "0aba82fe",
   "metadata": {},
   "outputs": [
    {
     "data": {
      "text/plain": [
       "[1, 2, 67, 3, 4, 34, 7, 33, 56]"
      ]
     },
     "execution_count": 15,
     "metadata": {},
     "output_type": "execute_result"
    }
   ],
   "source": [
    "list(p)"
   ]
  },
  {
   "cell_type": "code",
   "execution_count": null,
   "id": "46db0dfb",
   "metadata": {},
   "outputs": [],
   "source": [
    "Q . how to remove duplicate element from list"
   ]
  },
  {
   "cell_type": "code",
   "execution_count": 16,
   "id": "8ad62557",
   "metadata": {},
   "outputs": [],
   "source": [
    "p = [1,7,23,78,3,564,4,4,4,4,4,7,3,7,3,6,54]"
   ]
  },
  {
   "cell_type": "code",
   "execution_count": 17,
   "id": "ea07e2bc",
   "metadata": {},
   "outputs": [
    {
     "data": {
      "text/plain": [
       "[1, 7, 23, 78, 3, 564, 4, 4, 4, 4, 4, 7, 3, 7, 3, 6, 54]"
      ]
     },
     "execution_count": 17,
     "metadata": {},
     "output_type": "execute_result"
    }
   ],
   "source": [
    "p"
   ]
  },
  {
   "cell_type": "code",
   "execution_count": 20,
   "id": "ab63f2e3",
   "metadata": {},
   "outputs": [],
   "source": [
    "p1 = list(set(p))"
   ]
  },
  {
   "cell_type": "code",
   "execution_count": 21,
   "id": "af099da7",
   "metadata": {},
   "outputs": [
    {
     "data": {
      "text/plain": [
       "[1, 3, 4, 6, 7, 78, 564, 54, 23]"
      ]
     },
     "execution_count": 21,
     "metadata": {},
     "output_type": "execute_result"
    }
   ],
   "source": [
    "p1"
   ]
  },
  {
   "cell_type": "code",
   "execution_count": 22,
   "id": "c5281c36",
   "metadata": {},
   "outputs": [
    {
     "data": {
      "text/plain": [
       "[1, 7, 23, 78, 3, 564, 4, 4, 4, 4, 4, 7, 3, 7, 3, 6, 54]"
      ]
     },
     "execution_count": 22,
     "metadata": {},
     "output_type": "execute_result"
    }
   ],
   "source": [
    "p"
   ]
  },
  {
   "cell_type": "code",
   "execution_count": 23,
   "id": "7c85d977",
   "metadata": {},
   "outputs": [],
   "source": [
    "p = {4,4,4,4,4,4,4,4,4,4,44,4,4,4,4,4,2}"
   ]
  },
  {
   "cell_type": "code",
   "execution_count": 24,
   "id": "34f3ba14",
   "metadata": {},
   "outputs": [
    {
     "data": {
      "text/plain": [
       "{2, 4, 44}"
      ]
     },
     "execution_count": 24,
     "metadata": {},
     "output_type": "execute_result"
    }
   ],
   "source": [
    "p"
   ]
  },
  {
   "cell_type": "code",
   "execution_count": 25,
   "id": "884de563",
   "metadata": {},
   "outputs": [],
   "source": [
    "d = {'a':1,'b':2,'c':3}"
   ]
  },
  {
   "cell_type": "code",
   "execution_count": 28,
   "id": "67532c27",
   "metadata": {},
   "outputs": [
    {
     "data": {
      "text/plain": [
       "['a', 'b', 'c']"
      ]
     },
     "execution_count": 28,
     "metadata": {},
     "output_type": "execute_result"
    }
   ],
   "source": [
    "list(d.keys())"
   ]
  },
  {
   "cell_type": "code",
   "execution_count": 29,
   "id": "aaea0dc3",
   "metadata": {},
   "outputs": [
    {
     "data": {
      "text/plain": [
       "[('a', 1), ('b', 2), ('c', 3)]"
      ]
     },
     "execution_count": 29,
     "metadata": {},
     "output_type": "execute_result"
    }
   ],
   "source": [
    "list(d.items())"
   ]
  },
  {
   "cell_type": "code",
   "execution_count": 30,
   "id": "0c70a222",
   "metadata": {},
   "outputs": [],
   "source": [
    "a = 'sfdsfds'"
   ]
  },
  {
   "cell_type": "code",
   "execution_count": 31,
   "id": "84fb3ea6",
   "metadata": {},
   "outputs": [
    {
     "ename": "ValueError",
     "evalue": "invalid literal for int() with base 10: 'sfdsfds'",
     "output_type": "error",
     "traceback": [
      "\u001b[1;31m---------------------------------------------------------------------------\u001b[0m",
      "\u001b[1;31mValueError\u001b[0m                                Traceback (most recent call last)",
      "Input \u001b[1;32mIn [31]\u001b[0m, in \u001b[0;36m<cell line: 1>\u001b[1;34m()\u001b[0m\n\u001b[1;32m----> 1\u001b[0m \u001b[38;5;28;43mint\u001b[39;49m\u001b[43m(\u001b[49m\u001b[43ma\u001b[49m\u001b[43m)\u001b[49m\n",
      "\u001b[1;31mValueError\u001b[0m: invalid literal for int() with base 10: 'sfdsfds'"
     ]
    }
   ],
   "source": [
    "int(a)"
   ]
  },
  {
   "cell_type": "code",
   "execution_count": 32,
   "id": "eb7cdc46",
   "metadata": {},
   "outputs": [],
   "source": [
    "a = '56756756'"
   ]
  },
  {
   "cell_type": "code",
   "execution_count": 33,
   "id": "d79f044e",
   "metadata": {},
   "outputs": [
    {
     "data": {
      "text/plain": [
       "56756756"
      ]
     },
     "execution_count": 33,
     "metadata": {},
     "output_type": "execute_result"
    }
   ],
   "source": [
    "int(a)"
   ]
  },
  {
   "cell_type": "code",
   "execution_count": 38,
   "id": "2ecc5893",
   "metadata": {},
   "outputs": [
    {
     "name": "stdout",
     "output_type": "stream",
     "text": [
      "Enter the number:45\n",
      "Enter the second number::96\n",
      "Addition 45 and 96 is 141\n"
     ]
    }
   ],
   "source": [
    "x = int(input(\"Enter the number:\"))\n",
    "y = int(input(\"Enter the second number::\"))\n",
    "z = x+y\n",
    "print(\"Addition {} and {} is {}\".format(x,y,z))"
   ]
  },
  {
   "cell_type": "code",
   "execution_count": 35,
   "id": "bc3bfce7",
   "metadata": {},
   "outputs": [
    {
     "data": {
      "text/plain": [
       "'45'"
      ]
     },
     "execution_count": 35,
     "metadata": {},
     "output_type": "execute_result"
    }
   ],
   "source": [
    "x"
   ]
  },
  {
   "cell_type": "code",
   "execution_count": 39,
   "id": "5984ec6b",
   "metadata": {},
   "outputs": [],
   "source": [
    "a = 'test123'"
   ]
  },
  {
   "cell_type": "code",
   "execution_count": 40,
   "id": "a3ea9466",
   "metadata": {},
   "outputs": [
    {
     "ename": "ValueError",
     "evalue": "invalid literal for int() with base 10: 'test123'",
     "output_type": "error",
     "traceback": [
      "\u001b[1;31m---------------------------------------------------------------------------\u001b[0m",
      "\u001b[1;31mValueError\u001b[0m                                Traceback (most recent call last)",
      "Input \u001b[1;32mIn [40]\u001b[0m, in \u001b[0;36m<cell line: 1>\u001b[1;34m()\u001b[0m\n\u001b[1;32m----> 1\u001b[0m \u001b[38;5;28;43mint\u001b[39;49m\u001b[43m(\u001b[49m\u001b[43ma\u001b[49m\u001b[43m)\u001b[49m\n",
      "\u001b[1;31mValueError\u001b[0m: invalid literal for int() with base 10: 'test123'"
     ]
    }
   ],
   "source": [
    "int(a)"
   ]
  },
  {
   "cell_type": "code",
   "execution_count": null,
   "id": "166a4823",
   "metadata": {},
   "outputs": [],
   "source": []
  },
  {
   "cell_type": "code",
   "execution_count": null,
   "id": "3483d5e0",
   "metadata": {},
   "outputs": [],
   "source": []
  },
  {
   "cell_type": "code",
   "execution_count": null,
   "id": "b26035cb",
   "metadata": {},
   "outputs": [],
   "source": []
  },
  {
   "cell_type": "code",
   "execution_count": null,
   "id": "caceb4e2",
   "metadata": {},
   "outputs": [],
   "source": []
  },
  {
   "cell_type": "code",
   "execution_count": null,
   "id": "197c8fbe",
   "metadata": {},
   "outputs": [],
   "source": []
  }
 ],
 "metadata": {
  "kernelspec": {
   "display_name": "Python 3 (ipykernel)",
   "language": "python",
   "name": "python3"
  },
  "language_info": {
   "codemirror_mode": {
    "name": "ipython",
    "version": 3
   },
   "file_extension": ".py",
   "mimetype": "text/x-python",
   "name": "python",
   "nbconvert_exporter": "python",
   "pygments_lexer": "ipython3",
   "version": "3.9.12"
  }
 },
 "nbformat": 4,
 "nbformat_minor": 5
}
